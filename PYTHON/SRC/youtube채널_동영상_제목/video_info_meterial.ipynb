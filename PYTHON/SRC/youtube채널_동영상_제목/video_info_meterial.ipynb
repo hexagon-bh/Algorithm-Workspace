{
 "cells": [
  {
   "cell_type": "code",
   "execution_count": null,
   "metadata": {},
   "outputs": [],
   "source": [
    "from selenium import webdriver\n",
    "from selenium.webdriver.common.keys import Keys\n",
    "\n",
    "driver = webdriver.Chrome('\"파일 경로\"/chromedriver.exe')\n",
    "driver.get('https://www.youtube.com/user/BuzzBean11/videos')\n",
    "\n",
    "page = driver.page_source\n",
    "page\n"
   ]
  },
  {
   "cell_type": "code",
   "execution_count": null,
   "metadata": {},
   "outputs": [],
   "source": [
    "from bs4 import BeautifulSoup\n",
    "\n",
    "#...........................................\n",
    "\n",
    "soup = BeautifulSoup(page,'lxml')\n",
    "\n",
    "all_title = soup.find_all('a','yt-simple-endpoint style-scope ytd-grid-video-renderer')\n",
    "title = [soup.find_all('a','yt-simple-endpoint style-scope ytd-grid-video-renderer')[n].string for n in range(0,len(all_title))]\n",
    "title"
   ]
  },
  {
   "cell_type": "code",
   "execution_count": null,
   "metadata": {},
   "outputs": [],
   "source": [
    "#.............................................\n",
    "\n",
    "all_video_time = soup.find_all('span','style-scope ytd-thumbnail-overlay-time-status-renderer')\n",
    "video_time = [soup.find_all('span','style-scope ytd-thumbnail-overlay-time-status-renderer')[n].string.strip() for n in range(0,len(all_video_time))]\n",
    "video_time\n"
   ]
  },
  {
   "cell_type": "code",
   "execution_count": null,
   "metadata": {},
   "outputs": [],
   "source": [
    "#채널명\n",
    "chennel = soup.find('span','style-scope ytd-c4-tabbed-header-renderer').string\n",
    "#구독자 수\n",
    "sub_num = soup.find('yt-formatted-string','style-scope ytd-c4-tabbed-header-renderer').string\n",
    "#조회수, 올린지 얼마나 되었는지(업로드 시점)\n",
    "c = soup.find_all('span','style-scope ytd-grid-video-renderer')\n",
    "view_num = [soup.find_all('span','style-scope ytd-grid-video-renderer')[n].string for n in range(0,len(c))]\n"
   ]
  },
  {
   "cell_type": "code",
   "execution_count": null,
   "metadata": {},
   "outputs": [],
   "source": [
    "from time import localtime, strftime\n",
    "\n",
    "#.............................\n",
    "\n",
    "#현재 시간\n",
    "extract_date = strftime(\"%Y/%m/%d %H:%M:%S\", localtime())\n",
    "extract_date\n",
    "\n",
    "#결과 : 2019/05/20 20:36:49"
   ]
  },
  {
   "cell_type": "code",
   "execution_count": null,
   "metadata": {},
   "outputs": [],
   "source": [
    "#.................................\n",
    "\n",
    "youtube_video_list = []\n",
    "\n",
    "x = 0\t\t#조회수의 index\n",
    "y = 1\t\t#업로드 시점의 index\n",
    "\n",
    "for i in range(0,len(all_title)):\n",
    "    roww = []\n",
    "    roww.append(title[i])\n",
    "    roww.append(video_time[i].strip())\n",
    "    roww.append(chennel)\n",
    "    roww.append(sub_num)\n",
    "    roww.append(view_num[x])\n",
    "    x += 2\t\t#조회수만 append\n",
    "    roww.append(view_num[y])\n",
    "    y += 2\t\t#업로드 시점만 append\n",
    "    roww.append(extract_date)\n",
    "    youtube_video_list.append(roww)\t\t\t#2차원 list로 만들어줌\n",
    "    \n",
    "    youtube_video_list"
   ]
  },
  {
   "cell_type": "code",
   "execution_count": null,
   "metadata": {},
   "outputs": [],
   "source": [
    "import time\n",
    "driver = webdriver.Chrome('C://chromedriver.exe')\n",
    "driver.get('https://www.youtube.com/user/BuzzBean11/videos')\n",
    "\n",
    "#여기서부터\n",
    "time.sleep(5)\n",
    "endk = 5\n",
    "while endk:\n",
    "    driver.find_element_by_tag_name('body').send_keys(Keys.END)\n",
    "    time.sleep(0.3)\n",
    "    endk -= 1\n",
    "#여기까지\n",
    "\n",
    "page = driver.page_source"
   ]
  }
 ],
 "metadata": {
  "language_info": {
   "name": "python"
  },
  "orig_nbformat": 4
 },
 "nbformat": 4,
 "nbformat_minor": 2
}

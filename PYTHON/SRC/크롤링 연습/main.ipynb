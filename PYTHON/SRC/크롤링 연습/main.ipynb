{
 "cells": [
  {
   "cell_type": "code",
   "execution_count": null,
   "metadata": {},
   "outputs": [],
   "source": []
  }
 ],
 "metadata": {
  "kernelspec": {
   "display_name": "Python 3.10.7 64-bit (microsoft store)",
   "language": "python",
   "name": "python3"
  },
  "language_info": {
   "name": "python",
   "version": "3.10.7"
  },
  "orig_nbformat": 4,
  "vscode": {
   "interpreter": {
    "hash": "ed2744fb4e4d2853e9a6d964844fd48e209627a2a837933caf8905f074db56e9"
   }
  }
 },
 "nbformat": 4,
 "nbformat_minor": 2
}
